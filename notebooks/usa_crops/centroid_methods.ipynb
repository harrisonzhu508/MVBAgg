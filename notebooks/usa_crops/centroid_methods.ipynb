{
 "cells": [
  {
   "cell_type": "code",
   "execution_count": 1,
   "metadata": {},
   "outputs": [],
   "source": [
    "import pandas as pd \n",
    "import geopandas as gpd\n",
    "import gpflow\n",
    "import numpy as np\n",
    "import tensorflow as tf\n",
    "from glob import glob"
   ]
  },
  {
   "cell_type": "code",
   "execution_count": 2,
   "metadata": {},
   "outputs": [],
   "source": [
    "states = [\"ILLINOIS\", \"IOWA\", \"MICHIGAN\", \"MINNESOTA\", \"OHIO\", \"INDIANA\", \"WISCONSON\"]"
   ]
  },
  {
   "cell_type": "code",
   "execution_count": 3,
   "metadata": {},
   "outputs": [],
   "source": [
    "df_yield = pd.read_csv(\"../../data/crops/soybean_yield_2015_2017.csv\")\n",
    "df_yield[\"key\"] = df_yield[\"County\"] + \"-\" + df_yield[\"State\"]\n",
    "counties_states = pd.read_csv(\"../../data/crops/counties-states.csv\")\n",
    "df_yield = df_yield[df_yield[\"key\"].isin(counties_states[\"key\"])]\n",
    "# drop duplicated yields\n",
    "df_yield = df_yield.drop_duplicates([\"County\", \"State\", \"Year\"])\n",
    "df_modis = pd.read_csv(\"../../data/crops/processed_covariates/MOD13Q1-1000-all_data.csv\")\n",
    "df_gridmet = pd.read_csv(\"../../data/crops/processed_covariates/GRIDMET-all_data.csv\")"
   ]
  },
  {
   "cell_type": "code",
   "execution_count": 4,
   "metadata": {},
   "outputs": [],
   "source": [
    "df_yield.rename(columns={\"Year\": \"year\"}, inplace=True)"
   ]
  },
  {
   "cell_type": "code",
   "execution_count": 5,
   "metadata": {},
   "outputs": [],
   "source": [
    "dates = ['04-07', '04-23', '05-09', '05-25',\n",
    "       '06-10', '06-26', '07-12', '07-28',\n",
    "       '08-13', '08-29', '09-14', '09-30',\n",
    "       '10-16']"
   ]
  },
  {
   "cell_type": "code",
   "execution_count": 6,
   "metadata": {},
   "outputs": [],
   "source": [
    "modis_features = [\"year\", \"County\", \"State\", \"longitude\", \"latitude\"] + [f\"EVI_{date}\" for date in dates]\n",
    "df_modis = df_modis[modis_features]"
   ]
  },
  {
   "cell_type": "code",
   "execution_count": 7,
   "metadata": {},
   "outputs": [],
   "source": [
    "df_modis = df_modis.groupby([\"year\",\"County\", \"State\"]).mean().reset_index()"
   ]
  },
  {
   "cell_type": "code",
   "execution_count": 8,
   "metadata": {},
   "outputs": [],
   "source": [
    "col_latlon = [\"longitude\", \"latitude\"]\n",
    "col_modis = [f\"EVI_{date}\" for date in dates]\n",
    "col_gridmet = [f\"pr_{date}\" for date in dates] + [f\"tmmx_{date}\" for date in dates]"
   ]
  },
  {
   "cell_type": "code",
   "execution_count": 9,
   "metadata": {},
   "outputs": [],
   "source": [
    "gridmet_features = [\"year\", \"County\", \"State\"] + col_gridmet\n",
    "df_gridmet = df_gridmet[gridmet_features]\n",
    "df_gridmet = df_gridmet.groupby([\"year\", \"County\", \"State\"]).mean().reset_index()"
   ]
  },
  {
   "cell_type": "code",
   "execution_count": 10,
   "metadata": {},
   "outputs": [],
   "source": [
    "df_features = df_modis.merge(df_gridmet, on=[\"County\", \"State\", \"year\"])"
   ]
  },
  {
   "cell_type": "code",
   "execution_count": 11,
   "metadata": {},
   "outputs": [],
   "source": [
    "df_all = df_yield.merge(df_features, on=[\"County\", \"State\", \"year\"])"
   ]
  },
  {
   "cell_type": "code",
   "execution_count": 12,
   "metadata": {},
   "outputs": [],
   "source": [
    "# df_all.to_csv(\"../../data/crops/centroid_yield_features_data.csv\")\n",
    "df_all.to_csv(\"../../data/crops/2015-2017centroid_yield_features_data.csv\")"
   ]
  },
  {
   "cell_type": "code",
   "execution_count": 13,
   "metadata": {},
   "outputs": [],
   "source": [
    "keys = set(df_all[df_all[\"year\"]==2015].key).intersection(set(df_all[df_all[\"year\"]==2017].key))\n",
    "keys = list(keys)\n",
    "keys.sort()"
   ]
  },
  {
   "cell_type": "code",
   "execution_count": 14,
   "metadata": {},
   "outputs": [],
   "source": [
    "df_all = df_all[df_all[\"key\"].isin(keys)]"
   ]
  },
  {
   "cell_type": "code",
   "execution_count": 16,
   "metadata": {},
   "outputs": [],
   "source": [
    "col_index_space = [0, 1]\n",
    "col_index_modis = [2, 3, 4, 5, 6, 7, 8, 9,10, 11, 12,13,14]\n",
    "col_index_pr = [15+i for i in range(13)]\n",
    "col_index_tmmx = [28+i for i in range(13)]\n",
    "\n",
    "latlon_cols = [\"longitude\", \"latitude\"]\n",
    "modis_cols = [f\"EVI_{date}\" for date in dates]\n",
    "pr_cols = [f\"pr_{date}\" for date in dates] \n",
    "tmmx_cols = [f\"tmmx_{date}\" for date in dates] \n",
    "all_features = latlon_cols + modis_cols + pr_cols + tmmx_cols\n",
    "\n",
    "assert df_all.shape[0] == 768\n"
   ]
  },
  {
   "cell_type": "markdown",
   "metadata": {},
   "source": [
    "## Experimental Setup"
   ]
  },
  {
   "cell_type": "code",
   "execution_count": 18,
   "metadata": {},
   "outputs": [],
   "source": [
    "import os\n",
    "os.environ[\"CUDA_VISIBLE_DEVICES\"] = \"-1\"\n",
    "import gpflow \n",
    "from scipy.stats import sem\n",
    "import json\n",
    "import random \n",
    "import time \n",
    "import matplotlib.pyplot as plt\n",
    "from tqdm import tqdm\n",
    "import numpy as np\n",
    "from sklearn.model_selection import KFold\n",
    "from sklearn.preprocessing import StandardScaler\n",
    "\n",
    "seed = 0\n",
    "\n",
    "X = df_all.loc[:,all_features].values\n",
    "# X = df_all.iloc[:,6:34].values\n",
    "y = df_all.Value.values[:, None]\n",
    "kf = KFold(n_splits=5, random_state=seed, shuffle=True)\n",
    "y = np.log(y)"
   ]
  },
  {
   "cell_type": "markdown",
   "metadata": {},
   "source": [
    "## Centroid GP"
   ]
  },
  {
   "cell_type": "code",
   "execution_count": 19,
   "metadata": {},
   "outputs": [
    {
     "name": "stderr",
     "output_type": "stream",
     "text": [
      "0it [00:00, ?it/s]2022-01-14 15:25:48.277568: E tensorflow/stream_executor/cuda/cuda_driver.cc:271] failed call to cuInit: CUDA_ERROR_NO_DEVICE: no CUDA-capable device is detected\n",
      "2022-01-14 15:25:48.277610: I tensorflow/stream_executor/cuda/cuda_diagnostics.cc:169] retrieving CUDA diagnostic information for host: nvidia4\n",
      "2022-01-14 15:25:48.277615: I tensorflow/stream_executor/cuda/cuda_diagnostics.cc:176] hostname: nvidia4\n",
      "2022-01-14 15:25:48.277746: I tensorflow/stream_executor/cuda/cuda_diagnostics.cc:200] libcuda reported version is: 460.27.4\n",
      "2022-01-14 15:25:48.277765: I tensorflow/stream_executor/cuda/cuda_diagnostics.cc:204] kernel reported version is: 460.27.4\n",
      "2022-01-14 15:25:48.277769: I tensorflow/stream_executor/cuda/cuda_diagnostics.cc:310] kernel version seems to match DSO: 460.27.4\n",
      "2022-01-14 15:25:48.278181: I tensorflow/core/platform/cpu_feature_guard.cc:151] This TensorFlow binary is optimized with oneAPI Deep Neural Network Library (oneDNN) to use the following CPU instructions in performance-critical operations:  AVX2 AVX512F FMA\n",
      "To enable them in other operations, rebuild TensorFlow with the appropriate compiler flags.\n",
      "2022-01-14 15:25:48.330597: W tensorflow/python/util/util.cc:368] Sets are not currently considered sequences, but this may change in the future, so consider avoiding using them.\n",
      "5it [00:11,  2.28s/it]"
     ]
    },
    {
     "name": "stdout",
     "output_type": "stream",
     "text": [
      "MAPE [0.018791189083751776, 0.020581927259052633, 0.02066895792313438, 0.020093082676521812, 0.020776552531332395]\n",
      "RMSE [0.09548382258497803, 0.10308572558106202, 0.10853600556165986, 0.10308398535646551, 0.10317844268578949]\n",
      "LL [-0.7412401353454348, -0.7476352550037826, -0.8043362508449573, -0.7227097675091686, -0.8004552292144533]\n",
      "Training Time []\n"
     ]
    },
    {
     "name": "stderr",
     "output_type": "stream",
     "text": [
      "\n"
     ]
    }
   ],
   "source": [
    "RMSE = []\n",
    "MAPE  = []\n",
    "LL  = []\n",
    "training_time = []\n",
    "\n",
    "for fold, (train_index, test_index) in tqdm(enumerate(kf.split(keys))):\n",
    "    # randomly pick counties\n",
    "    county_keys = [keys[key] for key in train_index]\n",
    "    train_index = (df_all[\"year\"]==2015) & (df_all[\"key\"].isin(county_keys))\n",
    "    test_index = (df_all[\"year\"]==2017) & (df_all[\"key\"].isin(county_keys))\n",
    "    X_train, X_test = X[train_index], X[test_index]\n",
    "    y_train, y_test = y[train_index], y[test_index]\n",
    "    scaler_x = StandardScaler().fit(X_train)\n",
    "    scaler_y = StandardScaler().fit(y_train)\n",
    "    X_train, y_train = scaler_x.transform(X_train), scaler_y.transform(y_train)\n",
    "    X_test = scaler_x.transform(X_test)\n",
    "\n",
    "    # fit and train GP regression model\n",
    "    k_space = gpflow.kernels.Matern32(active_dims=col_index_space)\n",
    "    k_modis = gpflow.kernels.RBF(active_dims=col_index_modis)\n",
    "    k_pr = gpflow.kernels.RBF(active_dims=col_index_pr)\n",
    "    k_tmmx = gpflow.kernels.RBF(active_dims=col_index_tmmx)\n",
    "    k = k_space + k_modis + k_pr + k_tmmx\n",
    "    m = gpflow.models.GPR(data=(X_train, y_train), kernel=k, mean_function=None)\n",
    "    t0 = time.time()\n",
    "    opt = gpflow.optimizers.Scipy()\n",
    "    opt_logs = opt.minimize(m.training_loss, m.trainable_variables, options=dict(maxiter=500))\n",
    "    t1 = time.time()\n",
    "\n",
    "    pred, var = m.predict_y(X_test)\n",
    "    pred = scaler_y.inverse_transform(pred)\n",
    "    # pred already inversely transformed, therefore only need to multiple the correction by scale_\n",
    "    lower = np.reshape((1.96 * np.sqrt(var[:,0]))*scaler_y.scale_, y_test.shape)\n",
    "    upper = np.reshape((1.96 * np.sqrt(var[:,0]))*scaler_y.scale_, y_test.shape)\n",
    "    errors = np.concatenate((lower, upper), axis=1)\n",
    "    errors = errors.T\n",
    "    \n",
    "    # compute metrics \n",
    "    loglik = np.mean(m.predict_log_density((X_test, scaler_y.transform(y_test))))\n",
    "    RMSE.append(np.sqrt(np.mean((pred - y_test)**2)))\n",
    "    MAPE.append(np.mean(np.abs(( pred - y_test) / y_test)))\n",
    "    LL.append(loglik)\n",
    "\n",
    "    # plot predictions\n",
    "    plt.figure(figsize=(8,8))\n",
    "    plt.scatter(pred, y_test, color=\"red\")\n",
    "    plt.plot(np.linspace(-100,100,201), np.linspace(-100,100,201), color=\"black\")\n",
    "\n",
    "    plt.errorbar(#\n",
    "        pred[:,0],\n",
    "        y_test[:,0],\n",
    "        xerr=errors,\n",
    "        fmt=\"o\",\n",
    "        ls=\"none\",\n",
    "        capsize=5,\n",
    "        markersize=4,\n",
    "        color=\"blue\",\n",
    "        alpha=0.2\n",
    "        )\n",
    "    plt.xlim((y_test.min()-0.5, y_test.max()+0.5))\n",
    "    plt.ylim((y_test.min()-0.5, y_test.max()+0.5))\n",
    "    plt.xlabel(\"Predictions\")#\n",
    "    plt.ylabel(\"Ground Truth\")\n",
    "    plt.savefig(f\"../../results/usa_crops/centroidGP_fold{fold}.png\")\n",
    "    plt.savefig(f\"../../results/usa_crops/centroidGP_fold{fold}.pdf\")\n",
    "    plt.savefig(f\"../../results/usa_crops/centroidGP_fold{fold}.svg\")\n",
    "    plt.close()\n",
    "\n",
    "print(f\"MAPE\", MAPE)\n",
    "print(f\"RMSE\", RMSE)\n",
    "print(f\"LL\", LL)\n",
    "print(f\"Training Time\", training_time)"
   ]
  },
  {
   "cell_type": "code",
   "execution_count": 20,
   "metadata": {},
   "outputs": [
    {
     "data": {
      "text/html": [
       "&lt;gpflow.models.gpr.GPR object at 0x7fdf30130250&gt;\n",
       "<table>\n",
       "<thead>\n",
       "<tr><th>name                              </th><th>class    </th><th>transform       </th><th>prior  </th><th>trainable  </th><th>shape  </th><th>dtype  </th><th style=\"text-align: right;\">     value</th></tr>\n",
       "</thead>\n",
       "<tbody>\n",
       "<tr><td>GPR.kernel.kernels[0].variance    </td><td>Parameter</td><td>Softplus        </td><td>       </td><td>True       </td><td>()     </td><td>float64</td><td style=\"text-align: right;\"> 0.194403 </td></tr>\n",
       "<tr><td>GPR.kernel.kernels[0].lengthscales</td><td>Parameter</td><td>Softplus        </td><td>       </td><td>True       </td><td>()     </td><td>float64</td><td style=\"text-align: right;\"> 0.416133 </td></tr>\n",
       "<tr><td>GPR.kernel.kernels[1].variance    </td><td>Parameter</td><td>Softplus        </td><td>       </td><td>True       </td><td>()     </td><td>float64</td><td style=\"text-align: right;\"> 1.82891  </td></tr>\n",
       "<tr><td>GPR.kernel.kernels[1].lengthscales</td><td>Parameter</td><td>Softplus        </td><td>       </td><td>True       </td><td>()     </td><td>float64</td><td style=\"text-align: right;\"> 7.75928  </td></tr>\n",
       "<tr><td>GPR.kernel.kernels[2].variance    </td><td>Parameter</td><td>Softplus        </td><td>       </td><td>True       </td><td>()     </td><td>float64</td><td style=\"text-align: right;\"> 0.473155 </td></tr>\n",
       "<tr><td>GPR.kernel.kernels[2].lengthscales</td><td>Parameter</td><td>Softplus        </td><td>       </td><td>True       </td><td>()     </td><td>float64</td><td style=\"text-align: right;\">22.3012   </td></tr>\n",
       "<tr><td>GPR.kernel.kernels[3].variance    </td><td>Parameter</td><td>Softplus        </td><td>       </td><td>True       </td><td>()     </td><td>float64</td><td style=\"text-align: right;\"> 0.0407635</td></tr>\n",
       "<tr><td>GPR.kernel.kernels[3].lengthscales</td><td>Parameter</td><td>Softplus        </td><td>       </td><td>True       </td><td>()     </td><td>float64</td><td style=\"text-align: right;\"> 2.37322  </td></tr>\n",
       "<tr><td>GPR.likelihood.variance           </td><td>Parameter</td><td>Softplus + Shift</td><td>       </td><td>True       </td><td>()     </td><td>float64</td><td style=\"text-align: right;\"> 0.0488889</td></tr>\n",
       "</tbody>\n",
       "</table>"
      ],
      "text/plain": [
       "<gpflow.models.gpr.GPR object at 0x7fdf30130250>\n",
       "╒════════════════════════════════════╤═══════════╤══════════════════╤═════════╤═════════════╤═════════╤═════════╤════════════╕\n",
       "│ name                               │ class     │ transform        │ prior   │ trainable   │ shape   │ dtype   │      value │\n",
       "╞════════════════════════════════════╪═══════════╪══════════════════╪═════════╪═════════════╪═════════╪═════════╪════════════╡\n",
       "│ GPR.kernel.kernels[0].variance     │ Parameter │ Softplus         │         │ True        │ ()      │ float64 │  0.194403  │\n",
       "├────────────────────────────────────┼───────────┼──────────────────┼─────────┼─────────────┼─────────┼─────────┼────────────┤\n",
       "│ GPR.kernel.kernels[0].lengthscales │ Parameter │ Softplus         │         │ True        │ ()      │ float64 │  0.416133  │\n",
       "├────────────────────────────────────┼───────────┼──────────────────┼─────────┼─────────────┼─────────┼─────────┼────────────┤\n",
       "│ GPR.kernel.kernels[1].variance     │ Parameter │ Softplus         │         │ True        │ ()      │ float64 │  1.82891   │\n",
       "├────────────────────────────────────┼───────────┼──────────────────┼─────────┼─────────────┼─────────┼─────────┼────────────┤\n",
       "│ GPR.kernel.kernels[1].lengthscales │ Parameter │ Softplus         │         │ True        │ ()      │ float64 │  7.75928   │\n",
       "├────────────────────────────────────┼───────────┼──────────────────┼─────────┼─────────────┼─────────┼─────────┼────────────┤\n",
       "│ GPR.kernel.kernels[2].variance     │ Parameter │ Softplus         │         │ True        │ ()      │ float64 │  0.473155  │\n",
       "├────────────────────────────────────┼───────────┼──────────────────┼─────────┼─────────────┼─────────┼─────────┼────────────┤\n",
       "│ GPR.kernel.kernels[2].lengthscales │ Parameter │ Softplus         │         │ True        │ ()      │ float64 │ 22.3012    │\n",
       "├────────────────────────────────────┼───────────┼──────────────────┼─────────┼─────────────┼─────────┼─────────┼────────────┤\n",
       "│ GPR.kernel.kernels[3].variance     │ Parameter │ Softplus         │         │ True        │ ()      │ float64 │  0.0407635 │\n",
       "├────────────────────────────────────┼───────────┼──────────────────┼─────────┼─────────────┼─────────┼─────────┼────────────┤\n",
       "│ GPR.kernel.kernels[3].lengthscales │ Parameter │ Softplus         │         │ True        │ ()      │ float64 │  2.37322   │\n",
       "├────────────────────────────────────┼───────────┼──────────────────┼─────────┼─────────────┼─────────┼─────────┼────────────┤\n",
       "│ GPR.likelihood.variance            │ Parameter │ Softplus + Shift │         │ True        │ ()      │ float64 │  0.0488889 │\n",
       "╘════════════════════════════════════╧═══════════╧══════════════════╧═════════╧═════════════╧═════════╧═════════╧════════════╛"
      ]
     },
     "execution_count": 20,
     "metadata": {},
     "output_type": "execute_result"
    }
   ],
   "source": [
    "m"
   ]
  },
  {
   "cell_type": "code",
   "execution_count": 20,
   "metadata": {},
   "outputs": [
    {
     "name": "stderr",
     "output_type": "stream",
     "text": [
      "/home/hbz15/MVBAgg/.env/lib/python3.8/site-packages/numpy/core/_methods.py:262: RuntimeWarning: Degrees of freedom <= 0 for slice\n",
      "  ret = _var(a, axis=axis, dtype=dtype, out=out, ddof=ddof,\n",
      "/home/hbz15/MVBAgg/.env/lib/python3.8/site-packages/numpy/core/_methods.py:222: RuntimeWarning: invalid value encountered in true_divide\n",
      "  arrmean = um.true_divide(arrmean, div, out=arrmean, casting='unsafe',\n",
      "/home/hbz15/MVBAgg/.env/lib/python3.8/site-packages/numpy/core/_methods.py:254: RuntimeWarning: invalid value encountered in double_scalars\n",
      "  ret = ret.dtype.type(ret / rcount)\n"
     ]
    }
   ],
   "source": [
    "json_file = json.dumps({\"CV-RMSE\": sum(RMSE) / 5, \"CV-MAPE\": sum(MAPE) / 5, \n",
    "                       \"CV-sd-RMSE\": sem(RMSE), \"CV-sd-MAPE\": sem(MAPE), \"CV-LL\": sum(LL) / 5, \"CV-sd-LL\": sem(LL),\n",
    "                        \"Training Time\": sum(training_time)/5, \"Training Time se\": sem(training_time)}\n",
    "                       )\n",
    "f = open(f\"../../results/usa_crops/centroidGP.json\", \"w\")\n",
    "f.write(json_file)\n",
    "f.close()"
   ]
  },
  {
   "cell_type": "code",
   "execution_count": 21,
   "metadata": {},
   "outputs": [],
   "source": [
    "# alpha = K_ZZ^{-1} @ m\n",
    "list_columns = [latlon_cols, modis_cols, pr_cols, tmmx_cols]\n",
    "alpha = m.posterior().alpha \n",
    "Z = X_train\n",
    "sobol = {}\n",
    "all_features = []\n",
    "for l in [latlon_cols, modis_cols, pr_cols, tmmx_cols]:\n",
    "    all_features += l\n",
    "df_all_scaled = df_all.copy()\n",
    "df_all_scaled.loc[:, all_features] = scaler_x.transform(df_all_scaled.loc[:, all_features].values)\n",
    "\n",
    "Kmn = m.kernel(df_all_scaled[all_features].values, Z)\n",
    "alpha_j = Kmn @ alpha\n",
    "variance_full = np.mean(alpha_j**2) - np.mean(alpha_j)**2 + m.likelihood.variance.numpy()\n",
    "\n",
    "alpha_list = []\n",
    "for i, cols in enumerate(list_columns):\n",
    "    Z_tmp = tf.gather(Z, indices=m.kernel.kernels[i].active_dims, axis=1)\n",
    "    Kmn = m.kernel.kernels[i].K(X[cols].values, Z_tmp)\n",
    "    alpha_j = Kmn @ alpha\n",
    "    alpha_list.append(alpha_j)\n",
    "\n",
    "# compute the 1st order Sobols\n",
    "for i in range(len(list_columns)):\n",
    "    sobol[f\"{i}\"] = (\n",
    "        np.mean(alpha_list[i] ** 2) - np.mean(alpha_list[i]) ** 2\n",
    "    ) / variance_full\n",
    "\n",
    "# compute the 2nd order Sobols\n",
    "for i in range(len(list_columns)):\n",
    "    for j in range(i+1, len(list_columns)):\n",
    "        sobol[f\"{i}-{j}\"] = (\n",
    "            np.mean(\n",
    "                2\n",
    "                * (alpha_list[i] - np.mean(alpha_list[i]))\n",
    "                * (alpha_list[j] - np.mean(alpha_list[j]))\n",
    "            )\n",
    "            / variance_full\n",
    "        )\n"
   ]
  },
  {
   "cell_type": "code",
   "execution_count": 22,
   "metadata": {},
   "outputs": [
    {
     "data": {
      "text/plain": [
       "[0.01388125404471421,\n",
       " 0.7790494374804148,\n",
       " 0.00012744308599918497,\n",
       " 0.0008302887195146124]"
      ]
     },
     "execution_count": 22,
     "metadata": {},
     "output_type": "execute_result"
    }
   ],
   "source": [
    "sobol"
   ]
  },
  {
   "cell_type": "markdown",
   "metadata": {},
   "source": [
    "## Random Forest"
   ]
  },
  {
   "cell_type": "code",
   "execution_count": 23,
   "metadata": {},
   "outputs": [
    {
     "name": "stderr",
     "output_type": "stream",
     "text": [
      "5it [00:01,  3.28it/s]"
     ]
    },
    {
     "name": "stdout",
     "output_type": "stream",
     "text": [
      "MAPE [0.020278537632900263, 0.021368765169560877, 0.020510880243303845, 0.022660574395256823, 0.02192326580755986]\n",
      "RMSE [0.10153536445220938, 0.10632312651863317, 0.1043423781526632, 0.1142315398900619, 0.1091623436432785]\n",
      "Training Time [0.16010594367980957, 0.15932917594909668, 0.15838003158569336, 0.15716767311096191, 0.15930533409118652]\n"
     ]
    },
    {
     "name": "stderr",
     "output_type": "stream",
     "text": [
      "\n"
     ]
    }
   ],
   "source": [
    "from sklearn.ensemble import RandomForestRegressor\n",
    "\n",
    "RMSE = []\n",
    "MAPE  = []\n",
    "training_time = []\n",
    "\n",
    "for fold, (train_index, test_index) in tqdm(enumerate(kf.split(keys))):\n",
    "    # randomly pick counties\n",
    "    county_keys = [keys[key] for key in train_index]\n",
    "    train_index = (df_all[\"year\"]==2015) & (df_all[\"key\"].isin(county_keys))\n",
    "    test_index = (df_all[\"year\"]==2017) & (df_all[\"key\"].isin(county_keys))\n",
    "    X_train, X_test = X[train_index], X[test_index]\n",
    "    y_train, y_test = y[train_index], y[test_index]\n",
    "    scaler_x = StandardScaler().fit(X_train)\n",
    "    scaler_y = StandardScaler().fit(y_train)\n",
    "    X_train, y_train = scaler_x.transform(X_train), scaler_y.transform(y_train)\n",
    "    X_test = scaler_x.transform(X_test)\n",
    "\n",
    "    # fit and train GP regression model\n",
    "    m = RandomForestRegressor(max_depth=2, random_state=0)   \n",
    "\n",
    "    t0 = time.time()\n",
    "    m.fit(X_train, y_train.ravel())    \n",
    "    t1 = time.time()\n",
    "\n",
    "    pred = m.predict(X_test)\n",
    "    pred = scaler_y.inverse_transform(pred[:, None])\n",
    "    \n",
    "    # compute metrics \n",
    "    RMSE.append(np.sqrt(np.mean((pred - y_test)**2)))\n",
    "    MAPE.append(np.mean(np.abs(( pred - y_test) / y_test)))\n",
    "    training_time.append(t1-t0)\n",
    "\n",
    "    # plot predictions\n",
    "    plt.figure(figsize=(8,8))\n",
    "    plt.scatter(pred, y_test, color=\"red\")\n",
    "    plt.plot(np.linspace(-100,100,201), np.linspace(-100,100,201), color=\"black\")\n",
    "    plt.xlim((y_test.min()-0.5, y_test.max()+0.5))\n",
    "    plt.ylim((y_test.min()-0.5, y_test.max()+0.5))\n",
    "    plt.xlabel(\"Predictions\")\n",
    "    plt.ylabel(\"Ground Truth\")\n",
    "    plt.savefig(f\"../../results/usa_crops/centroidRF_fold{fold}.png\")\n",
    "    plt.savefig(f\"../../results/usa_crops/centroidRF_fold{fold}.pdf\")\n",
    "    plt.close()\n",
    "\n",
    "print(f\"MAPE\", MAPE)\n",
    "print(f\"RMSE\", RMSE)\n",
    "print(f\"Training Time\", training_time)\n",
    "\n",
    "json_file = json.dumps({\"CV-RMSE\": sum(RMSE) / 5, \"CV-MAPE\": sum(MAPE) / 5, \n",
    "                       \"CV-sd-RMSE\": sem(RMSE), \"CV-sd-MAPE\": sem(MAPE), \n",
    "                        \"Training Time\": sum(training_time)/5, \"Training Time se\": sem(training_time)}\n",
    "\n",
    "                       )\n",
    "f = open(f\"../../results/usa_crops/centroidRF.json\", \"w\")\n",
    "f.write(json_file)\n",
    "f.close()"
   ]
  },
  {
   "cell_type": "code",
   "execution_count": null,
   "metadata": {},
   "outputs": [],
   "source": []
  },
  {
   "cell_type": "code",
   "execution_count": null,
   "metadata": {},
   "outputs": [],
   "source": []
  },
  {
   "cell_type": "code",
   "execution_count": null,
   "metadata": {},
   "outputs": [],
   "source": []
  }
 ],
 "metadata": {
  "interpreter": {
   "hash": "b9346729b1e4593c8ff618e5693626c77aa75f12cc79d76918c578b870c1b385"
  },
  "kernelspec": {
   "display_name": "Python 3.8.5 64-bit ('.env': venv)",
   "language": "python",
   "name": "python3"
  },
  "language_info": {
   "codemirror_mode": {
    "name": "ipython",
    "version": 3
   },
   "file_extension": ".py",
   "mimetype": "text/x-python",
   "name": "python",
   "nbconvert_exporter": "python",
   "pygments_lexer": "ipython3",
   "version": "3.8.5"
  },
  "orig_nbformat": 4
 },
 "nbformat": 4,
 "nbformat_minor": 2
}
