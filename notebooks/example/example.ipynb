{
 "cells": [
  {
   "cell_type": "markdown",
   "metadata": {},
   "source": [
    "# Example Notebook\n",
    "\n",
    "Installation:\n",
    "\n",
    "```python\n",
    "tensorflow-gpu\n",
    "sklearn\n",
    "matplotlib\n",
    "numpy\n",
    "pandas\n",
    "tqdm\n",
    "gpflow\n",
    "shapely (not really needed but it's in src.util)\n",
    "```"
   ]
  },
  {
   "cell_type": "code",
   "execution_count": 17,
   "metadata": {},
   "outputs": [],
   "source": [
    "import os\n",
    "os.environ[\"CUDA_VISIBLE_DEVICES\"] = \"2\""
   ]
  },
  {
   "cell_type": "code",
   "execution_count": 34,
   "metadata": {},
   "outputs": [],
   "source": [
    "import sys \n",
    "sys.path.append(\"../..\")\n",
    "import numpy as np \n",
    "from sklearn.cluster import KMeans\n",
    "import gpflow \n",
    "import tensorflow as tf\n",
    "import pandas as pd\n",
    "from sklearn.preprocessing import StandardScaler#\n",
    "import matplotlib.pyplot as plt\n",
    "\n",
    "\n",
    "from src.bagData import BagData, create_tensorflow_iterator, create_bag_sameresolution_dictionary\n",
    "from src.svgp import VBagg\n",
    "from src.util import optimize_adam, optimize_natgrad_adam, save_model, load_model\n"
   ]
  },
  {
   "cell_type": "code",
   "execution_count": 19,
   "metadata": {},
   "outputs": [],
   "source": [
    "# read the example datasets\n",
    "df_features = pd.read_csv(\"example_features.csv\")\n",
    "df_response = pd.read_csv(\"example_response.csv\")"
   ]
  },
  {
   "cell_type": "code",
   "execution_count": 20,
   "metadata": {},
   "outputs": [],
   "source": [
    "# write down what the names of the columns are called\n",
    "dates = ['04-07']\n",
    "features = [\"key\", \"County\", \"State\", \"year\", \"longitude\", \"latitude\"] + [f\"EVI_{date}\" for date in dates] + [f\"pr_{date}\" for date in dates] + [f\"tmmx_{date}\" for date in dates]"
   ]
  },
  {
   "cell_type": "code",
   "execution_count": 21,
   "metadata": {},
   "outputs": [],
   "source": [
    "# collect the feature columns. In this dataset, we have features SPACE, MODIS, PR, TMMX\n",
    "latlon_cols = [\"longitude\", \"latitude\"]\n",
    "modis_cols = [f\"EVI_{date}\" for date in dates]\n",
    "pr_cols = [f\"pr_{date}\" for date in dates] \n",
    "tmmx_cols = [f\"tmmx_{date}\" for date in dates] \n",
    "all_features = latlon_cols + modis_cols + pr_cols + tmmx_cols\n",
    "\n",
    "# collect the index of the features\n",
    "col_index_space = [0, 1]\n",
    "col_index_modis = [2]\n",
    "col_index_pr = [3]\n",
    "col_index_tmmx = [4]\n",
    "col_index_all = col_index_space + col_index_modis + col_index_pr + col_index_tmmx"
   ]
  },
  {
   "cell_type": "code",
   "execution_count": 22,
   "metadata": {},
   "outputs": [
    {
     "name": "stdout",
     "output_type": "stream",
     "text": [
      "Example of a key following COUNTY-STATE format: ADAIR-IOWA\n"
     ]
    }
   ],
   "source": [
    "# the keys here store the county names \n",
    "keys = list(set(df_response.key))\n",
    "keys.sort()\n",
    "print(\"Example of a key following COUNTY-STATE format:\", keys[0])"
   ]
  },
  {
   "cell_type": "code",
   "execution_count": 23,
   "metadata": {},
   "outputs": [
    {
     "data": {
      "text/plain": [
       "(384, 76.8)"
      ]
     },
     "execution_count": 23,
     "metadata": {},
     "output_type": "execute_result"
    }
   ],
   "source": [
    "len(keys), 384/5"
   ]
  },
  {
   "cell_type": "code",
   "execution_count": 24,
   "metadata": {},
   "outputs": [
    {
     "name": "stdout",
     "output_type": "stream",
     "text": [
      "10 20\n"
     ]
    }
   ],
   "source": [
    "# Since this is an example, we use 20 training bags and 10 test bags\n",
    "# we randomly split the data into 80% train, 20% test\n",
    "test_keys = np.arange(0, 10)\n",
    "train_keys = np.arange(10, 30)\n",
    "print(len(test_keys), len(train_keys))"
   ]
  },
  {
   "cell_type": "code",
   "execution_count": 25,
   "metadata": {},
   "outputs": [],
   "source": [
    "iterations = 500 # set it to 20000 when actually training\n",
    "num_minibatch = 50\n",
    "lr_adam = 0.001\n",
    "# maximum length of tensor (TensorFlow assumes static tensors i.e. tensors in the computational graph are fixed sizes). If a set only has 51 observations, then observations 52,53,...,99 are set to 0\n",
    "# In this case, the maximum number of observations in each set is 100, so we set it to this\n",
    "max_pixels = 100 "
   ]
  },
  {
   "cell_type": "code",
   "execution_count": 26,
   "metadata": {},
   "outputs": [
    {
     "name": "stderr",
     "output_type": "stream",
     "text": [
      "100%|██████████| 20/20 [00:00<00:00, 2677.50it/s]\n",
      "100%|██████████| 10/10 [00:00<00:00, 2994.43it/s]\n"
     ]
    }
   ],
   "source": [
    "train_keys = [keys[key] for key in train_keys]\n",
    "test_keys = [keys[key] for key in test_keys]\n",
    "X_train = df_features.loc[(df_features[\"key\"].isin(train_keys)), all_features].values\n",
    "X_test = df_features.loc[(df_features[\"key\"].isin(test_keys)), all_features].values\n",
    "y_train = df_response[(df_response[\"key\"].isin(train_keys))].y.values[:, None]\n",
    "y_test = df_response[(df_response[\"key\"].isin(test_keys))].y.values[:, None]\n",
    "\n",
    "# optional feature engineering step\n",
    "scaler_x = StandardScaler().fit(X_train)\n",
    "scaler_y = StandardScaler().fit(y_train)\n",
    "X_train, y_train = scaler_x.transform(X_train), scaler_y.transform(y_train)\n",
    "X_test = scaler_x.transform(X_test)\n",
    "\n",
    "# this creates a dictionary storing the data and set-item weights\n",
    "train_dict = create_bag_sameresolution_dictionary(\n",
    "    X_train, \n",
    "    y_train, \n",
    "    df_features[(df_features[\"key\"].isin(train_keys))],\n",
    "    df_response[(df_response[\"key\"].isin(train_keys))],\n",
    "    train_keys,\n",
    "    max_pixels\n",
    ")\n",
    "test_dict = create_bag_sameresolution_dictionary(\n",
    "    X_test, \n",
    "    y_test, \n",
    "    df_features[(df_features[\"key\"].isin(test_keys))],\n",
    "    df_response[(df_response[\"key\"].isin(test_keys))],\n",
    "    test_keys,\n",
    "    max_pixels\n",
    ")\n",
    "output_types=(\n",
    "    tf.int64, \n",
    "    tf.float64, \n",
    "    tf.float64, \n",
    "    tf.float64\n",
    ")\n",
    "\n",
    "# these 2 objects store the dictionaries and help generate the sets so that it can be handled using a \n",
    "# TensorFlow iterator\n",
    "train_bags = BagData(bag_data=train_dict, bags_metadata=\"train\")\n",
    "test_bags = BagData(bag_data=test_dict, bags_metadata=\"test\")\n",
    "\n",
    "ds_train = create_tensorflow_iterator(train_bags.gen_bags, output_types=output_types)"
   ]
  },
  {
   "cell_type": "code",
   "execution_count": 27,
   "metadata": {},
   "outputs": [],
   "source": [
    "# See Zhu et al. (2022) for an explanation. The variational posterior approximation is done using SVGP\n",
    "# create inducing points\n",
    "kmeans = KMeans(1)\n",
    "Z = np.zeros((train_bags.num_bags, len(col_index_all)))\n",
    "for i, bag in enumerate(train_bags.bags):\n",
    "    data = train_bags[bag]\n",
    "    Z_tmp = kmeans.fit(data[2]).cluster_centers_\n",
    "    Z[i] = Z_tmp\n",
    "\n",
    "# specify which dimensions of the input features the kernel acts on\n",
    "# If you want to use a Conv1D in the kernel, you need to rewrite the kernel\n",
    "k = gpflow.kernels.RBF(active_dims=col_index_all)\n",
    "m = VBagg(kernel=k, likelihood=gpflow.likelihoods.Gaussian(), inducing_variable=Z,num_data=train_bags.num_bags)\n",
    "\n",
    "# Fix the inducing points Z and don't train them\n",
    "gpflow.set_trainable(m.inducing_variable, False)\n",
    "\n"
   ]
  },
  {
   "cell_type": "code",
   "execution_count": 33,
   "metadata": {},
   "outputs": [
    {
     "name": "stdout",
     "output_type": "stream",
     "text": [
      "Begin Training\n"
     ]
    },
    {
     "name": "stderr",
     "output_type": "stream",
     "text": [
      "EPOCH: 0, ELBO: -25.673313263234746: 100%|██████████| 500/500 [00:16<00:00, 29.95it/s]\n"
     ]
    }
   ],
   "source": [
    "# fit and train GP regression model\n",
    "print(\"Begin Training\")\n",
    "# using natural gradients on the variational parameters, and Adam for other hyperparameters\n",
    "# alternatively, use Adam optimize_adam(). \n",
    "logf = optimize_natgrad_adam(m, ds_train, num_data=train_bags.num_bags, iterations=iterations, minibatch_size=num_minibatch, learning_rate=lr_adam)\n",
    "\n",
    "# for model saving\n",
    "save_model(m, save_path=\"./\", model_name=f\"VBagg_example\")"
   ]
  },
  {
   "cell_type": "code",
   "execution_count": 35,
   "metadata": {},
   "outputs": [],
   "source": [
    "# make predictions\n",
    "y_pred = np.zeros(test_bags.num_bags)\n",
    "y_std = np.zeros(test_bags.num_bags)\n",
    "\n",
    "for i, bag in enumerate(test_bags.bags):\n",
    "    f_mean, f_var = m.predict_aggregated(test_bags[bag][1], test_bags[bag][2])\n",
    "    y_pred[i] = f_mean[0][0]\n",
    "    y_std[i] = np.sqrt(f_var[0][0])\n",
    "    \n",
    "loglik = np.mean(m.predict_log_density(y_pred[:, None], y_std[:, None]**2, scaler_y.transform(test_bags.y)))\n",
    "y_pred_rescaled = scaler_y.inverse_transform(y_pred[:, None])"
   ]
  },
  {
   "cell_type": "code",
   "execution_count": 36,
   "metadata": {},
   "outputs": [
    {
     "name": "stdout",
     "output_type": "stream",
     "text": [
      "Predictions: RMSE -0.8267836204186395, RMSE 2.558671954345382\n"
     ]
    }
   ],
   "source": [
    "# calculate 95% credible intervals\n",
    "lower = np.reshape((1.96 * y_std)*scaler_y.scale_, y_test.shape)\n",
    "upper = np.reshape((1.96 * y_std)*scaler_y.scale_, y_test.shape)\n",
    "errors = np.concatenate((lower, upper), axis=1)\n",
    "errors = errors.T\n",
    "\n",
    "# compute metrics \n",
    "loglik = np.mean(m.predict_log_density(y_pred[:, None], y_std[:, None]**2, scaler_y.transform(test_bags.y)))\n",
    "RMSE = np.sqrt(np.mean((y_pred_rescaled - test_bags.y)**2))\n",
    "\n",
    "print(f\"Predictions: RMSE {loglik}, RMSE {RMSE}\")"
   ]
  },
  {
   "cell_type": "code",
   "execution_count": 37,
   "metadata": {},
   "outputs": [
    {
     "data": {
      "text/plain": [
       "Text(0, 0.5, 'Ground Truth')"
      ]
     },
     "execution_count": 37,
     "metadata": {},
     "output_type": "execute_result"
    },
    {
     "data": {
      "image/png": "[encoded data removed]",
      "text/plain": [
       "<Figure size 576x576 with 1 Axes>"
      ]
     },
     "metadata": {
      "needs_background": "light"
     },
     "output_type": "display_data"
    }
   ],
   "source": [
    "# plot predictions\n",
    "plt.figure(figsize=(8,8))\n",
    "plt.scatter(y_pred_rescaled, test_bags.y, color=\"red\")\n",
    "plt.plot(np.linspace(-100,100,201), np.linspace(-100,100,201), color=\"black\")\n",
    "\n",
    "plt.errorbar(\n",
    "    y_pred_rescaled[:,0],\n",
    "    test_bags.y[:,0],\n",
    "    xerr=errors,\n",
    "    fmt=\"o\",\n",
    "    ls=\"none\",\n",
    "    capsize=5,\n",
    "    markersize=4,\n",
    "    color=\"blue\",\n",
    "    alpha=0.2\n",
    "    )\n",
    "plt.xlim((test_bags.y.min()-1, test_bags.y.max()+1))\n",
    "plt.ylim((test_bags.y.min()-1, test_bags.y.max()+1))\n",
    "plt.xlabel(\"Predictions\")\n",
    "plt.ylabel(\"Ground Truth\")"
   ]
  },
  {
   "cell_type": "code",
   "execution_count": 41,
   "metadata": {},
   "outputs": [],
   "source": [
    "#  An example of load-then-predict\n",
    "\n",
    "# reinstantiate the model\n",
    "k = gpflow.kernels.RBF(active_dims=col_index_all)\n",
    "m = VBagg(kernel=k, likelihood=gpflow.likelihoods.Gaussian(), inducing_variable=Z,num_data=train_bags.num_bags)\n",
    "gpflow.set_trainable(m.inducing_variable, False)\n",
    "\n",
    "load_model(m, f\"./VBagg_example.pickle\")\n"
   ]
  },
  {
   "cell_type": "code",
   "execution_count": 42,
   "metadata": {},
   "outputs": [],
   "source": [
    "# make predictions\n",
    "y_pred = np.zeros(test_bags.num_bags)\n",
    "y_std = np.zeros(test_bags.num_bags)\n",
    "\n",
    "for i, bag in enumerate(test_bags.bags):\n",
    "    f_mean, f_var = m.predict_aggregated(test_bags[bag][1], test_bags[bag][2])\n",
    "    y_pred[i] = f_mean[0][0]\n",
    "    y_std[i] = np.sqrt(f_var[0][0])\n",
    "    \n",
    "loglik = np.mean(m.predict_log_density(y_pred[:, None], y_std[:, None]**2, scaler_y.transform(test_bags.y)))\n",
    "y_pred_rescaled = scaler_y.inverse_transform(y_pred[:, None])"
   ]
  },
  {
   "cell_type": "code",
   "execution_count": 43,
   "metadata": {},
   "outputs": [
    {
     "name": "stdout",
     "output_type": "stream",
     "text": [
      "Predictions: RMSE -0.8267836204186395, RMSE 2.558671954345382\n"
     ]
    }
   ],
   "source": [
    "# calculate 95% credible intervals\n",
    "lower = np.reshape((1.96 * y_std)*scaler_y.scale_, y_test.shape)\n",
    "upper = np.reshape((1.96 * y_std)*scaler_y.scale_, y_test.shape)\n",
    "errors = np.concatenate((lower, upper), axis=1)\n",
    "errors = errors.T\n",
    "\n",
    "# compute metrics \n",
    "loglik = np.mean(m.predict_log_density(y_pred[:, None], y_std[:, None]**2, scaler_y.transform(test_bags.y)))\n",
    "RMSE = np.sqrt(np.mean((y_pred_rescaled - test_bags.y)**2))\n",
    "\n",
    "print(f\"Predictions: RMSE {loglik}, RMSE {RMSE}\")"
   ]
  },
  {
   "cell_type": "code",
   "execution_count": 44,
   "metadata": {},
   "outputs": [
    {
     "data": {
      "text/plain": [
       "Text(0, 0.5, 'Ground Truth')"
      ]
     },
     "execution_count": 44,
     "metadata": {},
     "output_type": "execute_result"
    },
    {
     "data": {
      "image/png": "[encoded data removed]",
      "text/plain": [
       "<Figure size 576x576 with 1 Axes>"
      ]
     },
     "metadata": {
      "needs_background": "light"
     },
     "output_type": "display_data"
    }
   ],
   "source": [
    "# plot predictions\n",
    "plt.figure(figsize=(8,8))\n",
    "plt.scatter(y_pred_rescaled, test_bags.y, color=\"red\")\n",
    "plt.plot(np.linspace(-100,100,201), np.linspace(-100,100,201), color=\"black\")\n",
    "\n",
    "plt.errorbar(\n",
    "    y_pred_rescaled[:,0],\n",
    "    test_bags.y[:,0],\n",
    "    xerr=errors,\n",
    "    fmt=\"o\",\n",
    "    ls=\"none\",\n",
    "    capsize=5,\n",
    "    markersize=4,\n",
    "    color=\"blue\",\n",
    "    alpha=0.2\n",
    "    )\n",
    "plt.xlim((test_bags.y.min()-1, test_bags.y.max()+1))\n",
    "plt.ylim((test_bags.y.min()-1, test_bags.y.max()+1))\n",
    "plt.xlabel(\"Predictions\")\n",
    "plt.ylabel(\"Ground Truth\")"
   ]
  }
 ],
 "metadata": {
  "kernelspec": {
   "display_name": "Python 3.8.10 ('.env': venv)",
   "language": "python",
   "name": "python3"
  },
  "language_info": {
   "codemirror_mode": {
    "name": "ipython",
    "version": 3
   },
   "file_extension": ".py",
   "mimetype": "text/x-python",
   "name": "python",
   "nbconvert_exporter": "python",
   "pygments_lexer": "ipython3",
   "version": "3.8.10"
  },
  "orig_nbformat": 4,
  "vscode": {
   "interpreter": {
    "hash": "b0f861d3916cc1169517ae4506efd837abb3c81749ed50f61b02a1eb9df0418c"
   }
  }
 },
 "nbformat": 4,
 "nbformat_minor": 2
}
